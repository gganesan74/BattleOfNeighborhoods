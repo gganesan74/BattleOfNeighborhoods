{
 "cells": [
  {
   "cell_type": "markdown",
   "metadata": {},
   "source": [
    "# Customer Diversity Index"
   ]
  },
  {
   "cell_type": "markdown",
   "metadata": {},
   "source": [
    "This note book is used to calculate the Customer Diversity Index for some major cities (and a smaller one). The data is loaded from Foursquare. \n",
    "The code uses a list of cuisines and a category id for those. That mapping can be found at the Foursquare site:\n",
    "*https://developer.foursquare.com/docs/build-with-foursquare/categories/*\n",
    "\n"
   ]
  },
  {
   "cell_type": "code",
   "execution_count": 1,
   "metadata": {},
   "outputs": [],
   "source": [
    "# Define the dependencies\n",
    "import pandas as pd\n",
    "import numpy as np\n",
    "import requests\n",
    "import matplotlib as mpl\n",
    "import matplotlib.pyplot as plt\n",
    "%matplotlib inline\n",
    "mpl.style.use(['seaborn'])"
   ]
  },
  {
   "cell_type": "code",
   "execution_count": 2,
   "metadata": {},
   "outputs": [],
   "source": [
    "# Foursquare API credentials and endpoint\n",
    "CLIENT_ID = #Client ID\n",
    "CLIENT_SECRET = # Client secret\n",
    "VERSION = '20210403' # put today's date\n",
    "URL = 'https://api.foursquare.com/v2/venues/explore?&client_id={}&client_secret={}&v={}&limit={}'.format(CLIENT_ID, CLIENT_SECRET, VERSION, 5000)\n"
   ]
  },
  {
   "cell_type": "code",
   "execution_count": 3,
   "metadata": {},
   "outputs": [],
   "source": [
    "# List of cities to be explored\n",
    "cities = [\"New York, USA\", \"Toronto, Canada\", \"San Francisco, USA\",\"Santa Fe, NM, USA\"]"
   ]
  },
  {
   "cell_type": "code",
   "execution_count": 4,
   "metadata": {},
   "outputs": [],
   "source": [
    "# List of international cuisines (extracted from https://developer.foursquare.com/docs/build-with-foursquare/categories/)\n",
    "cuisines = {\n",
    "    'Afghan': '503288ae91d4c4b30a586d67', \n",
    "    'African': '4bf58dd8d48988d1c8941735', \n",
    "    'American': '4bf58dd8d48988d14e941735', \n",
    "    'Burmese': '56aa371be4b08b9a8d573568', \n",
    "    'Cambodian': '52e81612bcbc57f1066b7a03', \n",
    "    'Chinese': '4bf58dd8d48988d145941735', \n",
    "    'Filipino': '4eb1bd1c3b7b55596b4a748f', \n",
    "    'Himalayan': '52e81612bcbc57f1066b79fb', \n",
    "    'Indonesian': '4deefc054765f83613cdba6f', \n",
    "    'Japanese': '4bf58dd8d48988d111941735', \n",
    "    'Korean': '4bf58dd8d48988d113941735', \n",
    "    'Malay': '4bf58dd8d48988d156941735', \n",
    "    'Mongolian': '4eb1d5724b900d56c88a45fe', \n",
    "    'Thai': '4bf58dd8d48988d149941735', \n",
    "    'Tibetan': '52af39fb3cf9994f4e043be9', \n",
    "    'Vietnamese': '4bf58dd8d48988d14a941735', \n",
    "    'Australian': '4bf58dd8d48988d169941735', \n",
    "    'Austrian': '52e81612bcbc57f1066b7a01', \n",
    "    'Bangladeshi': '5e179ee74ae8e90006e9a746', \n",
    "    'Belgian': '52e81612bcbc57f1066b7a02', \n",
    "    'Caribbean': '4bf58dd8d48988d144941735', \n",
    "    'Caucasian': '5293a7d53cf9994f4e043a45', \n",
    "    'Czech': '52f2ae52bcbc57f1066b8b81', \n",
    "    'Dutch': '5744ccdfe4b0c0459246b4d0', \n",
    "    'Belarusian': '52e928d0bcbc57f1066b7e97', \n",
    "    'Bosnian': '58daa1558bbb0b01f18ec1ee', \n",
    "    'Bulgarian': '56aa371be4b08b9a8d5734f3', \n",
    "    'Romanian': '52960bac3cf9994f4e043ac4', \n",
    "    'Tatar': '52e928d0bcbc57f1066b7e98', \n",
    "    'English': '52e81612bcbc57f1066b7a05', \n",
    "    'French': '4bf58dd8d48988d10c941735', \n",
    "    'German': '4bf58dd8d48988d10d941735', \n",
    "    'Greek': '4bf58dd8d48988d10e941735', \n",
    "    'Hawaiian': '52e81612bcbc57f1066b79fe', \n",
    "    'Hungarian': '52e81612bcbc57f1066b79fa', \n",
    "    'Indian': '4bf58dd8d48988d10f941735', \n",
    "    'Italian': '4bf58dd8d48988d110941735', \n",
    "    'Salvadoran': '5745c7ac498e5d0483112fdb', \n",
    "    'Argentinian': '4bf58dd8d48988d107941735', \n",
    "    'Brazilian': '4bf58dd8d48988d16b941735', \n",
    "    'Colombian': '58daa1558bbb0b01f18ec1f4', \n",
    "    'Peruvian': '4eb1bfa43b7b52c0e1adc2e8', \n",
    "    'Venezuelan': '56aa371be4b08b9a8d573558', \n",
    "    'Moroccan': '4bf58dd8d48988d1c3941735', \n",
    "    'Mexican': '4bf58dd8d48988d1c1941735', \n",
    "    'Egyptian': '5bae9231bedf3950379f89e1', \n",
    "    'Iraqi': '5bae9231bedf3950379f89e7', \n",
    "    'Israeli': '56aa371be4b08b9a8d573529', \n",
    "    'Kurdish': '5744ccdfe4b0c0459246b4ca', \n",
    "    'Lebanese': '58daa1558bbb0b01f18ec1cd', \n",
    "    'Persian': '52e81612bcbc57f1066b79f7', \n",
    "    'Syrian': '5bae9231bedf3950379f89da', \n",
    "    'Yemeni': '5bae9231bedf3950379f89ea', \n",
    "    'Pakistani': '52e81612bcbc57f1066b79f8', \n",
    "    'Polish': '52e81612bcbc57f1066b7a04', \n",
    "    'Portuguese': '4def73e84765ae376e57713a', \n",
    "    'Russian': '5293a7563cf9994f4e043a44', \n",
    "    'Scandinavian': '4bf58dd8d48988d1c6941735', \n",
    "    'Scottish': '5744ccdde4b0c0459246b4a3', \n",
    "    'Slovak': '56aa371be4b08b9a8d57355a', \n",
    "    'Spanish': '4bf58dd8d48988d150941735', \n",
    "    'Sri Lankan': '5413605de4b0ae91d18581a9', \n",
    "    'Swiss': '4bf58dd8d48988d158941735', \n",
    "    'Turkish': '4f04af1f2fb6e1c99f3db0bb', \n",
    "    'Ukranian': '52e928d0bcbc57f1066b7e96'\n",
    "}"
   ]
  },
  {
   "cell_type": "markdown",
   "metadata": {},
   "source": [
    "### Data Collection\n",
    "Now we get the data for each city and cuisine. Note that we only need to get the tyotal number of restaurants and not the details. So we only extract that information from the response. "
   ]
  },
  {
   "cell_type": "code",
   "execution_count": 5,
   "metadata": {},
   "outputs": [
    {
     "data": {
      "text/html": [
       "<div>\n",
       "<style scoped>\n",
       "    .dataframe tbody tr th:only-of-type {\n",
       "        vertical-align: middle;\n",
       "    }\n",
       "\n",
       "    .dataframe tbody tr th {\n",
       "        vertical-align: top;\n",
       "    }\n",
       "\n",
       "    .dataframe thead th {\n",
       "        text-align: right;\n",
       "    }\n",
       "</style>\n",
       "<table border=\"1\" class=\"dataframe\">\n",
       "  <thead>\n",
       "    <tr style=\"text-align: right;\">\n",
       "      <th></th>\n",
       "      <th>City</th>\n",
       "      <th>Cuisine</th>\n",
       "      <th>Number_Restaurants</th>\n",
       "    </tr>\n",
       "  </thead>\n",
       "  <tbody>\n",
       "    <tr>\n",
       "      <th>0</th>\n",
       "      <td>New York, USA</td>\n",
       "      <td>Afghan</td>\n",
       "      <td>8</td>\n",
       "    </tr>\n",
       "    <tr>\n",
       "      <th>1</th>\n",
       "      <td>New York, USA</td>\n",
       "      <td>African</td>\n",
       "      <td>71</td>\n",
       "    </tr>\n",
       "    <tr>\n",
       "      <th>2</th>\n",
       "      <td>New York, USA</td>\n",
       "      <td>American</td>\n",
       "      <td>380</td>\n",
       "    </tr>\n",
       "    <tr>\n",
       "      <th>3</th>\n",
       "      <td>New York, USA</td>\n",
       "      <td>Burmese</td>\n",
       "      <td>10</td>\n",
       "    </tr>\n",
       "    <tr>\n",
       "      <th>4</th>\n",
       "      <td>New York, USA</td>\n",
       "      <td>Cambodian</td>\n",
       "      <td>9</td>\n",
       "    </tr>\n",
       "  </tbody>\n",
       "</table>\n",
       "</div>"
      ],
      "text/plain": [
       "            City    Cuisine Number_Restaurants\n",
       "0  New York, USA     Afghan                  8\n",
       "1  New York, USA    African                 71\n",
       "2  New York, USA   American                380\n",
       "3  New York, USA    Burmese                 10\n",
       "4  New York, USA  Cambodian                  9"
      ]
     },
     "execution_count": 5,
     "metadata": {},
     "output_type": "execute_result"
    }
   ],
   "source": [
    "restaurants = pd.DataFrame(columns=['City', 'Cuisine', 'Number_Restaurants']) # define the DataFrame where the results will be stored\n",
    "\n",
    "for city in cities:\n",
    "    for cuisine_name, category_id in cuisines.items():\n",
    "        # For each city, retrieve the top restaurants from Foursquare for each cuisine...\n",
    "        query = requests.get(\"{url}&near={city}&categoryId={category_id}\".format(url=URL, city=city, category_id=category_id))\n",
    "        if query.status_code == 200:\n",
    "            number = query.json()['response']['totalResults']\n",
    "            restaurants = restaurants.append({\n",
    "                'City': city,\n",
    "                'Cuisine': cuisine_name,\n",
    "                'Number_Restaurants': number\n",
    "            }, ignore_index=True)\n",
    "        \n",
    "restaurants.head() # print the results"
   ]
  },
  {
   "cell_type": "markdown",
   "metadata": {},
   "source": [
    "### Data Exploration\n",
    "In this part we plot the top ten cuisines by percentage for each city. "
   ]
  },
  {
   "cell_type": "code",
   "execution_count": 6,
   "metadata": {},
   "outputs": [
    {
     "name": "stderr",
     "output_type": "stream",
     "text": [
      "/home/girish/anaconda3/envs/mydev/lib/python3.7/site-packages/ipykernel_launcher.py:10: SettingWithCopyWarning: \n",
      "A value is trying to be set on a copy of a slice from a DataFrame.\n",
      "Try using .loc[row_indexer,col_indexer] = value instead\n",
      "\n",
      "See the caveats in the documentation: https://pandas.pydata.org/pandas-docs/stable/user_guide/indexing.html#returning-a-view-versus-a-copy\n",
      "  # Remove the CWD from sys.path while we load stuff.\n"
     ]
    },
    {
     "data": {
      "image/png": "[encoded data removed]",
      "text/plain": [
       "<Figure size 1152x1008 with 4 Axes>"
      ]
     },
     "metadata": {},
     "output_type": "display_data"
    }
   ],
   "source": [
    "fig = plt.figure()\n",
    "for index, city in enumerate(cities):\n",
    "    # For each city, get the top 10 cuisines and plot them in a horizontal bar graph\n",
    "    ax = fig.add_subplot(2, 2, index+1)\n",
    "    \n",
    "    # Get the data for the city\n",
    "    city_cuisines = restaurants[restaurants['City']==city]\n",
    "    \n",
    "    # Add a column that has restaurants by percentage. \n",
    "    city_cuisines['Pct'] = 100*city_cuisines['Number_Restaurants']/city_cuisines['Number_Restaurants'].sum()\n",
    "    \n",
    "    # Make the index to cuisines.\n",
    "    city_cuisines.index = city_cuisines['Cuisine']\n",
    "    \n",
    "    #Extract the top 10 \n",
    "    top_ten = city_cuisines.sort_values(by='Pct',ascending = False)[:10]\n",
    "    \n",
    "    #Reorder so that the top one is last. Helps when graphing.\n",
    "    top_ten = top_ten.sort_values(by='Pct',ascending = True)\n",
    "    \n",
    "    # Do the graphing\n",
    "    top_ten['Pct'].plot(kind='barh', ax=ax, figsize=(16, 14))\n",
    "    ax.set_title(city)\n",
    "    ax.set_xlabel(\"Percentage of restaurants\")\n",
    "    \n",
    "    \n",
    "    "
   ]
  },
  {
   "cell_type": "code",
   "execution_count": 7,
   "metadata": {},
   "outputs": [],
   "source": [
    "# Save the figure.\n",
    "fig.savefig('cuisine_top_ten_chart.png')"
   ]
  },
  {
   "cell_type": "markdown",
   "metadata": {},
   "source": [
    "### Raw CDI Calculation\n",
    "In this section we calculate the raw CDI for each city. This metric will enable us comparison but th raw number may not be easily interpretable."
   ]
  },
  {
   "cell_type": "code",
   "execution_count": 8,
   "metadata": {},
   "outputs": [],
   "source": [
    "cdi_data = pd.DataFrame(columns=['City','Raw_CDI'])\n",
    "for city in cities:\n",
    "    \n",
    "    # Get the data for the city\n",
    "    city_cuisines = restaurants[restaurants['City']==city]\n",
    "    \n",
    "    # Find cuisines as a fraction of total restaurants. \n",
    "    city_cuisines = restaurants[restaurants['City']==city].reset_index()\n",
    "    city_cuisines['frac']=city_cuisines['Number_Restaurants']/city_cuisines['Number_Restaurants'].sum()\n",
    "    pk = city_cuisines['frac'].astype('float').to_numpy()\n",
    "    pk = pk[pk>0]\n",
    "    cdi=np.sum(-pk*np.log2(pk))\n",
    "    \n",
    "    cdi_data = cdi_data.append({\n",
    "        'City': city,\n",
    "        'Raw_CDI': cdi\n",
    "    },ignore_index=True)\n",
    "    "
   ]
  },
  {
   "cell_type": "code",
   "execution_count": 9,
   "metadata": {},
   "outputs": [
    {
     "data": {
      "text/html": [
       "<div>\n",
       "<style scoped>\n",
       "    .dataframe tbody tr th:only-of-type {\n",
       "        vertical-align: middle;\n",
       "    }\n",
       "\n",
       "    .dataframe tbody tr th {\n",
       "        vertical-align: top;\n",
       "    }\n",
       "\n",
       "    .dataframe thead th {\n",
       "        text-align: right;\n",
       "    }\n",
       "</style>\n",
       "<table border=\"1\" class=\"dataframe\">\n",
       "  <thead>\n",
       "    <tr style=\"text-align: right;\">\n",
       "      <th></th>\n",
       "      <th>City</th>\n",
       "      <th>Raw_CDI</th>\n",
       "    </tr>\n",
       "  </thead>\n",
       "  <tbody>\n",
       "    <tr>\n",
       "      <th>0</th>\n",
       "      <td>New York, USA</td>\n",
       "      <td>4.995597</td>\n",
       "    </tr>\n",
       "    <tr>\n",
       "      <th>1</th>\n",
       "      <td>Toronto, Canada</td>\n",
       "      <td>4.644378</td>\n",
       "    </tr>\n",
       "    <tr>\n",
       "      <th>2</th>\n",
       "      <td>San Francisco, USA</td>\n",
       "      <td>4.662321</td>\n",
       "    </tr>\n",
       "    <tr>\n",
       "      <th>3</th>\n",
       "      <td>Santa Fe, NM, USA</td>\n",
       "      <td>3.101942</td>\n",
       "    </tr>\n",
       "  </tbody>\n",
       "</table>\n",
       "</div>"
      ],
      "text/plain": [
       "                 City   Raw_CDI\n",
       "0       New York, USA  4.995597\n",
       "1     Toronto, Canada  4.644378\n",
       "2  San Francisco, USA  4.662321\n",
       "3   Santa Fe, NM, USA  3.101942"
      ]
     },
     "execution_count": 9,
     "metadata": {},
     "output_type": "execute_result"
    }
   ],
   "source": [
    "#Display the data\n",
    "cdi_data"
   ]
  },
  {
   "cell_type": "code",
   "execution_count": 10,
   "metadata": {},
   "outputs": [
    {
     "data": {
      "text/plain": [
       "Text(0.5, 0, 'Raw CDI')"
      ]
     },
     "execution_count": 10,
     "metadata": {},
     "output_type": "execute_result"
    },
    {
     "data": {
      "image/png": "[encoded data removed]",
      "text/plain": [
       "<Figure size 576x396 with 1 Axes>"
      ]
     },
     "metadata": {},
     "output_type": "display_data"
    }
   ],
   "source": [
    "# Plot the data by order.\n",
    "cdi_data.index = cdi_data['City']\n",
    "sort_data=cdi_data['Raw_CDI'].sort_values()\n",
    "ax=sort_data.plot(kind='barh')\n",
    "ax.set_title('Raw CDI Across Cities')\n",
    "ax.set_xlabel('Raw CDI')"
   ]
  },
  {
   "cell_type": "code",
   "execution_count": 11,
   "metadata": {},
   "outputs": [],
   "source": [
    "# Save the plot\n",
    "fig = ax.get_figure()\n",
    "fig.tight_layout()\n",
    "fig.savefig('raw_cdi.png')"
   ]
  },
  {
   "cell_type": "markdown",
   "metadata": {},
   "source": [
    "### Percentage CDI calculation\n",
    "We calculate the percentage CDI based on the max CDI possible for a given set of cuisines. If the number of cuisines is N, the max possible CDI is -log2(1/N)"
   ]
  },
  {
   "cell_type": "code",
   "execution_count": 12,
   "metadata": {},
   "outputs": [],
   "source": [
    "# Calculate maximum possible CDI\n",
    "max_cdi = -np.log2(1/len(cuisines))"
   ]
  },
  {
   "cell_type": "code",
   "execution_count": 13,
   "metadata": {},
   "outputs": [],
   "source": [
    "# Calulate CDI as a percentage of maximum possible CDI\n",
    "cdi_data['Pct_CDI']=(100*cdi_data['Raw_CDI']/max_cdi).astype('int')"
   ]
  },
  {
   "cell_type": "code",
   "execution_count": 14,
   "metadata": {},
   "outputs": [
    {
     "data": {
      "text/html": [
       "<div>\n",
       "<style scoped>\n",
       "    .dataframe tbody tr th:only-of-type {\n",
       "        vertical-align: middle;\n",
       "    }\n",
       "\n",
       "    .dataframe tbody tr th {\n",
       "        vertical-align: top;\n",
       "    }\n",
       "\n",
       "    .dataframe thead th {\n",
       "        text-align: right;\n",
       "    }\n",
       "</style>\n",
       "<table border=\"1\" class=\"dataframe\">\n",
       "  <thead>\n",
       "    <tr style=\"text-align: right;\">\n",
       "      <th></th>\n",
       "      <th>City</th>\n",
       "      <th>Raw_CDI</th>\n",
       "      <th>Pct_CDI</th>\n",
       "    </tr>\n",
       "    <tr>\n",
       "      <th>City</th>\n",
       "      <th></th>\n",
       "      <th></th>\n",
       "      <th></th>\n",
       "    </tr>\n",
       "  </thead>\n",
       "  <tbody>\n",
       "    <tr>\n",
       "      <th>New York, USA</th>\n",
       "      <td>New York, USA</td>\n",
       "      <td>4.995597</td>\n",
       "      <td>82</td>\n",
       "    </tr>\n",
       "    <tr>\n",
       "      <th>Toronto, Canada</th>\n",
       "      <td>Toronto, Canada</td>\n",
       "      <td>4.644378</td>\n",
       "      <td>77</td>\n",
       "    </tr>\n",
       "    <tr>\n",
       "      <th>San Francisco, USA</th>\n",
       "      <td>San Francisco, USA</td>\n",
       "      <td>4.662321</td>\n",
       "      <td>77</td>\n",
       "    </tr>\n",
       "    <tr>\n",
       "      <th>Santa Fe, NM, USA</th>\n",
       "      <td>Santa Fe, NM, USA</td>\n",
       "      <td>3.101942</td>\n",
       "      <td>51</td>\n",
       "    </tr>\n",
       "  </tbody>\n",
       "</table>\n",
       "</div>"
      ],
      "text/plain": [
       "                                  City   Raw_CDI  Pct_CDI\n",
       "City                                                     \n",
       "New York, USA            New York, USA  4.995597       82\n",
       "Toronto, Canada        Toronto, Canada  4.644378       77\n",
       "San Francisco, USA  San Francisco, USA  4.662321       77\n",
       "Santa Fe, NM, USA    Santa Fe, NM, USA  3.101942       51"
      ]
     },
     "execution_count": 14,
     "metadata": {},
     "output_type": "execute_result"
    }
   ],
   "source": [
    "# Display the data\n",
    "cdi_data"
   ]
  },
  {
   "cell_type": "code",
   "execution_count": 15,
   "metadata": {},
   "outputs": [
    {
     "data": {
      "text/plain": [
       "Text(0.5, 0, 'Percentage CDI')"
      ]
     },
     "execution_count": 15,
     "metadata": {},
     "output_type": "execute_result"
    },
    {
     "data": {
      "image/png": "[encoded data removed]",
      "text/plain": [
       "<Figure size 576x396 with 1 Axes>"
      ]
     },
     "metadata": {},
     "output_type": "display_data"
    }
   ],
   "source": [
    "# Plot the data by order.\n",
    "cdi_data.index = cdi_data['City']\n",
    "sort_data=cdi_data['Pct_CDI'].sort_values()\n",
    "ax=sort_data.plot(kind='barh')\n",
    "ax.set_title('Percentage CDI Across Cities')\n",
    "ax.set_xlabel('Percentage CDI')"
   ]
  },
  {
   "cell_type": "code",
   "execution_count": 16,
   "metadata": {},
   "outputs": [],
   "source": [
    "#Save the plot\n",
    "fig = ax.get_figure()\n",
    "fig.tight_layout()\n",
    "fig.savefig('pct_cdi.png')"
   ]
  },
  {
   "cell_type": "code",
   "execution_count": null,
   "metadata": {},
   "outputs": [],
   "source": []
  }
 ],
 "metadata": {
  "kernelspec": {
   "display_name": "Python 3",
   "language": "python",
   "name": "python3"
  },
  "language_info": {
   "codemirror_mode": {
    "name": "ipython",
    "version": 3
   },
   "file_extension": ".py",
   "mimetype": "text/x-python",
   "name": "python",
   "nbconvert_exporter": "python",
   "pygments_lexer": "ipython3",
   "version": "3.7.10"
  }
 },
 "nbformat": 4,
 "nbformat_minor": 4
}
